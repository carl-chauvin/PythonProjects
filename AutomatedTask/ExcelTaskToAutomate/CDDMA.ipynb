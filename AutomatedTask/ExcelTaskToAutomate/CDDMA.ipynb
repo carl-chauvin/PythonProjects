{
 "cells": [
  {
   "cell_type": "code",
   "execution_count": null,
   "metadata": {},
   "outputs": [],
   "source": [
    "#Consolidación de Datos desde Múltiples Archivos Excel\n",
    "#Llamamos a las siguientes librerias\n",
    "import pandas as pd\n",
    "\"\"\" import openpyxl\n",
    "from openpyxl import load_workbook \"\"\"\n",
    "\n",
    "#declaramos la funcion consolidate_mult_xlfiles\n",
    "def consolidate_mult_xlfiles():\n",
    "    file1 = pd.read_excel(\"report_2024.xlsx\") #leemos el archivo csv con el metodo .read_csv\n",
    "    file2 = pd.read_excel(\"report_sales.xlsx\") #leemos el archivo csv con el metodo .read_excel\n",
    "\n",
    "    files = pd.concat([file1, file2], ignore_index=True) #hacemos una concatenacion para juntar los archivos\n",
    "\n",
    "    files.to_excel(\"merge_Newfile2.xlsx\", index=False) #convertimos el archivo concatenado en un archivo xl\n",
    "\n",
    "consolidate_mult_xlfiles() #llamamos a la funcion para que realice la tarea\n"
   ]
  },
  {
   "cell_type": "code",
   "execution_count": null,
   "metadata": {},
   "outputs": [],
   "source": []
  }
 ],
 "metadata": {
  "kernelspec": {
   "display_name": "Python 3",
   "language": "python",
   "name": "python3"
  },
  "language_info": {
   "codemirror_mode": {
    "name": "ipython",
    "version": 3
   },
   "file_extension": ".py",
   "mimetype": "text/x-python",
   "name": "python",
   "nbconvert_exporter": "python",
   "pygments_lexer": "ipython3",
   "version": "3.12.8"
  }
 },
 "nbformat": 4,
 "nbformat_minor": 2
}
