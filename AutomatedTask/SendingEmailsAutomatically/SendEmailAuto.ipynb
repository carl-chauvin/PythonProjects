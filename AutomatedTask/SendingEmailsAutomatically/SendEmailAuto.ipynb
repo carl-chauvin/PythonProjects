{
 "cells": [
  {
   "cell_type": "code",
   "execution_count": 12,
   "metadata": {},
   "outputs": [
    {
     "name": "stdout",
     "output_type": "stream",
     "text": [
      "Correo Enviado!\n"
     ]
    }
   ],
   "source": [
    "\"\"\" Envio de correo automatico \"\"\"\n",
    "import os\n",
    "import smtplib\n",
    "import ssl\n",
    "import csv\n",
    "\n",
    "def SendEmailAuto():\n",
    "    SMTP_SERVER = \"smtp.gmail.com\"\n",
    "    EMAIL = \"drizyboyyoung@gmail.com\"\n",
    "    PASSWORD = \"ggmz qibc mgso budp\"\n",
    "    PORT = 587\n",
    "\n",
    "    context = ssl.create_default_context()\n",
    "\n",
    "    with smtplib.SMTP(SMTP_SERVER, PORT) as server:\n",
    "        server.starttls(context=context)\n",
    "        server.login(EMAIL, PASSWORD)\n",
    "\n",
    "        with open(\"receivers.csv\", encoding=\"utf-8\") as file:\n",
    "            reader = csv.reader(file)\n",
    "            next(reader)\n",
    "\n",
    "            for name, email, designation, salary in reader:\n",
    "                message = f'''\\n\n",
    "                Subject: Mi primer correo\n",
    "\n",
    "                Felicidades {name}, \n",
    "                \n",
    "                El motivo de este correo es para informarle que fue contratado para la posición de {designation}.\n",
    "                Devengando un salario de {salary}.\n",
    "\n",
    "                Atentamente,\n",
    "                ''' \n",
    "\n",
    "                server.sendmail(EMAIL, email, message.encode(\"utf-8\"))\n",
    "\n",
    "\n",
    "SendEmailAuto()\n",
    "\n",
    "print('Correo Enviado!')"
   ]
  },
  {
   "cell_type": "code",
   "execution_count": null,
   "metadata": {},
   "outputs": [
    {
     "name": "stdout",
     "output_type": "stream",
     "text": [
      "Waiting for the time to Generate the report\n",
      "Report Generation In Process...\n",
      "Report Generation In Process...\n"
     ]
    },
    {
     "ename": "KeyboardInterrupt",
     "evalue": "",
     "output_type": "error",
     "traceback": [
      "\u001b[1;31m---------------------------------------------------------------------------\u001b[0m",
      "\u001b[1;31mKeyboardInterrupt\u001b[0m                         Traceback (most recent call last)",
      "Cell \u001b[1;32mIn[18], line 16\u001b[0m\n\u001b[0;32m     14\u001b[0m \u001b[38;5;28;01mwhile\u001b[39;00m \u001b[38;5;28;01mTrue\u001b[39;00m:\n\u001b[0;32m     15\u001b[0m         schedule\u001b[38;5;241m.\u001b[39mrun_pending()\n\u001b[1;32m---> 16\u001b[0m         \u001b[43mtime\u001b[49m\u001b[38;5;241;43m.\u001b[39;49m\u001b[43msleep\u001b[49m\u001b[43m(\u001b[49m\u001b[38;5;241;43m1\u001b[39;49m\u001b[43m)\u001b[49m\n",
      "\u001b[1;31mKeyboardInterrupt\u001b[0m: "
     ]
    }
   ],
   "source": [
    "#Planificar el envio de correo automaticamente \n",
    "import schedule\n",
    "import time\n",
    "#import os\n",
    "\n",
    "def ScheduleEmailSender():\n",
    "    print(\"Report Generation In Process...\")\n",
    "    SendEmailAuto()1\n",
    "\n",
    "schedule.every(1).minute.do(ScheduleEmailSender)\n",
    "\n",
    "print(\"Waiting for the time to Generate the report\")\n",
    "\n",
    "while True:\n",
    "        schedule.run_pending()\n",
    "        time.sleep(1)\n"
   ]
  }
 ],
 "metadata": {
  "kernelspec": {
   "display_name": "Python 3",
   "language": "python",
   "name": "python3"
  },
  "language_info": {
   "codemirror_mode": {
    "name": "ipython",
    "version": 3
   },
   "file_extension": ".py",
   "mimetype": "text/x-python",
   "name": "python",
   "nbconvert_exporter": "python",
   "pygments_lexer": "ipython3",
   "version": "3.12.7"
  }
 },
 "nbformat": 4,
 "nbformat_minor": 2
}
