{
 "cells": [
  {
   "cell_type": "markdown",
   "metadata": {},
   "source": [
    "\"\"\" import openpyxl \n",
    "from openpyxl import  load_workbook \"\"\""
   ]
  },
  {
   "cell_type": "code",
   "execution_count": null,
   "metadata": {},
   "outputs": [],
   "source": [
    "import pandas as pd\n",
    "import numpy as np\n",
    "import schedule\n",
    "import time\n",
    "import os\n",
    "\n",
    "#creamos la funcion MonitoringDueAcc()\n",
    "def MonitoringDueAcc():\n",
    "    try:\n",
    "        #leemos el archivo de excel o csv almacenado dentro de una variable\n",
    "        df = pd.read_csv(\"sample_data_intw.csv\")        #encoding=\"utf-8\", encoding_errors=\"replace\"\n",
    "\n",
    "        #convertir las fechas en formato datetime \n",
    "        df[\"last_rech_date_ma\"] = pd.to_datetime(df[\"last_rech_date_ma\"], errors=\"coerce\")\n",
    "        df[\"pdate\"] = pd.to_datetime(df[\"pdate\"], errors=\"coerce\", dayfirst=True)\n",
    "\n",
    "        #filtramos por la columna que tiene informacion requerida \n",
    "        deliquency_over30 = df[df[\"daily_decr30\"] > 30]\n",
    "\n",
    "        sol = deliquency_over30[[ \"msisdn\", \"daily_decr30\", \"rental30\",]].head(100)\n",
    "        print(f\"Data processed successfully.\")\n",
    "        return sol\n",
    "    except Exception as e:\n",
    "        print(f\"An error has occurred: {e}\")\n",
    "        return pd.DataFrame()\n",
    "\n",
    "\n",
    "def GenerateReportAuto():\n",
    "    try:\n",
    "        #el mensaje que se mostrara cuando se ejecute la funcion\n",
    "        print(\"Report Generation In Process...\") \n",
    "        sol = MonitoringDueAcc() #llamamos a la funcion MonitoringDueAcc()\n",
    "        if not sol.empty: #si la variable sol no esta vacia\n",
    "            #guardamos el archivo en formato excel\n",
    "            output_file = os.path.join(os.getcwd(), \"MonitoringDueAcc.xlsx\") \n",
    "            sol.to_excel(output_file, index=False)\n",
    "            #imprimimos el mensaje de que se genero el reporte exitosamente\n",
    "            print(f\"Report Generated Successfully at {output_file}\") \n",
    "        else: #si la variable sol esta vacia mostrara el mensaje de que fallo la generacion del reporte\n",
    "            print(\"Report Generation Failed.\")\n",
    "    except Exception as e: #si ocurre un error mostrara el siguient mensaje\n",
    "        print(f\"An error has occured: {e}\")\n",
    "\n",
    "#llamamos a la funcion GenerateReportAuto() para que se ejecute todos los viernes a las 8:00 AM\n",
    "schedule.every().friday.at(f\"08:00\").do(GenerateReportAuto)\n",
    "print(f\"Waiting for the report to be Generated at 5:15 PM on Friday...\")\n",
    "\n",
    "#mantenemos el programa en ejecucion\n",
    "while True:\n",
    "    schedule.run_pending()\n",
    "    time.sleep(2)\n",
    "\n",
    "\n"
   ]
  },
  {
   "cell_type": "code",
   "execution_count": 3,
   "metadata": {},
   "outputs": [
    {
     "data": {
      "text/plain": [
       "msisdn\n",
       "04581I85330    7\n",
       "47819I90840    7\n",
       "42825I88688    6\n",
       "67324I84453    6\n",
       "43430I70786    6\n",
       "29191I82738    6\n",
       "22038I88658    6\n",
       "30080I90588    6\n",
       "87592I84456    6\n",
       "43096I88688    6\n",
       "Name: count, dtype: int64"
      ]
     },
     "execution_count": 3,
     "metadata": {},
     "output_type": "execute_result"
    }
   ],
   "source": [
    "#Para contar a partir de una tabla frecuencia la cantidad de los numeros de telefono\n",
    "df = pd.read_csv(\"sample_data_intw.csv\")\n",
    "frequency = df[\"msisdn\"].value_counts().head(10)\n",
    "frequency"
   ]
  },
  {
   "cell_type": "code",
   "execution_count": 4,
   "metadata": {},
   "outputs": [
    {
     "data": {
      "text/html": [
       "<div>\n",
       "<style scoped>\n",
       "    .dataframe tbody tr th:only-of-type {\n",
       "        vertical-align: middle;\n",
       "    }\n",
       "\n",
       "    .dataframe tbody tr th {\n",
       "        vertical-align: top;\n",
       "    }\n",
       "\n",
       "    .dataframe thead th {\n",
       "        text-align: right;\n",
       "    }\n",
       "</style>\n",
       "<table border=\"1\" class=\"dataframe\">\n",
       "  <thead>\n",
       "    <tr style=\"text-align: right;\">\n",
       "      <th></th>\n",
       "      <th>daily_decr90</th>\n",
       "    </tr>\n",
       "    <tr>\n",
       "      <th>msisdn</th>\n",
       "      <th></th>\n",
       "    </tr>\n",
       "  </thead>\n",
       "  <tbody>\n",
       "    <tr>\n",
       "      <th>00004I82738</th>\n",
       "      <td>9.290</td>\n",
       "    </tr>\n",
       "    <tr>\n",
       "      <th>00005I96753</th>\n",
       "      <td>79.706</td>\n",
       "    </tr>\n",
       "    <tr>\n",
       "      <th>00010I89237</th>\n",
       "      <td>21070.120</td>\n",
       "    </tr>\n",
       "    <tr>\n",
       "      <th>00011I90846</th>\n",
       "      <td>20599.900</td>\n",
       "    </tr>\n",
       "    <tr>\n",
       "      <th>00012I70784</th>\n",
       "      <td>28595.720</td>\n",
       "    </tr>\n",
       "    <tr>\n",
       "      <th>00014I90843</th>\n",
       "      <td>39.096</td>\n",
       "    </tr>\n",
       "    <tr>\n",
       "      <th>00015I74510</th>\n",
       "      <td>16814.700</td>\n",
       "    </tr>\n",
       "    <tr>\n",
       "      <th>00015I82734</th>\n",
       "      <td>346.000</td>\n",
       "    </tr>\n",
       "    <tr>\n",
       "      <th>00015I97616</th>\n",
       "      <td>59.785</td>\n",
       "    </tr>\n",
       "    <tr>\n",
       "      <th>00017I82735</th>\n",
       "      <td>205.700</td>\n",
       "    </tr>\n",
       "  </tbody>\n",
       "</table>\n",
       "</div>"
      ],
      "text/plain": [
       "             daily_decr90\n",
       "msisdn                   \n",
       "00004I82738         9.290\n",
       "00005I96753        79.706\n",
       "00010I89237     21070.120\n",
       "00011I90846     20599.900\n",
       "00012I70784     28595.720\n",
       "00014I90843        39.096\n",
       "00015I74510     16814.700\n",
       "00015I82734       346.000\n",
       "00015I97616        59.785\n",
       "00017I82735       205.700"
      ]
     },
     "execution_count": 4,
     "metadata": {},
     "output_type": "execute_result"
    }
   ],
   "source": [
    "#para agrupar por msisdn y sumar los valores de daily_decr30\n",
    "goup_by = df.groupby([\"msisdn\"])[[\"daily_decr90\"]].sum().head(10)\n",
    "goup_by"
   ]
  },
  {
   "cell_type": "code",
   "execution_count": 17,
   "metadata": {},
   "outputs": [
    {
     "data": {
      "text/plain": [
       "0         0\n",
       "1         0\n",
       "2         0\n",
       "3         0\n",
       "4         0\n",
       "         ..\n",
       "209588    0\n",
       "209589    0\n",
       "209590    0\n",
       "209591    0\n",
       "209592    0\n",
       "Name: daily_decr30, Length: 209593, dtype: int64"
      ]
     },
     "execution_count": 17,
     "metadata": {},
     "output_type": "execute_result"
    }
   ],
   "source": [
    "#para filtrar los valores del promedio de daily_decr30 mayores a 15\n",
    "df[\"daily_decr30\"] = np.where(df[\"daily_decr90\"].mean() < 15, 1, 0)\n",
    "df[\"daily_decr30\"] "
   ]
  },
  {
   "cell_type": "code",
   "execution_count": 18,
   "metadata": {},
   "outputs": [
    {
     "data": {
      "text/plain": [
       "daily_decr90\n",
       "0.000000       4063\n",
       "500.000000      782\n",
       "1000.000000     490\n",
       "700.000000      343\n",
       "600.000000      319\n",
       "               ... \n",
       "14.078000         1\n",
       "58.023333         1\n",
       "291.563333        1\n",
       "1238.560000       1\n",
       "4534.820000       1\n",
       "Name: count, Length: 155483, dtype: int64"
      ]
     },
     "execution_count": 18,
     "metadata": {},
     "output_type": "execute_result"
    }
   ],
   "source": [
    "df[\"daily_decr90\"].value_counts()"
   ]
  }
 ],
 "metadata": {
  "kernelspec": {
   "display_name": "Python 3",
   "language": "python",
   "name": "python3"
  },
  "language_info": {
   "codemirror_mode": {
    "name": "ipython",
    "version": 3
   },
   "file_extension": ".py",
   "mimetype": "text/x-python",
   "name": "python",
   "nbconvert_exporter": "python",
   "pygments_lexer": "ipython3",
   "version": "3.12.8"
  }
 },
 "nbformat": 4,
 "nbformat_minor": 2
}
