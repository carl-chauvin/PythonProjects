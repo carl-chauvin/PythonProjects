{
 "cells": [
  {
   "cell_type": "code",
   "execution_count": 1,
   "metadata": {},
   "outputs": [
    {
     "name": "stdout",
     "output_type": "stream",
     "text": [
      "Waiting for the report to be Generated at 5:07 PM on Friday...\n",
      "Report Generation In Process...\n",
      "Data processed successfully.\n",
      "Report Generated Successfully at c:\\Users\\nandy\\OneDrive\\Escritorio\\PythonTest\\Collect Analysis\\MonitoringDueAcc.xlsx\n"
     ]
    },
    {
     "ename": "KeyboardInterrupt",
     "evalue": "",
     "output_type": "error",
     "traceback": [
      "\u001b[1;31m---------------------------------------------------------------------------\u001b[0m",
      "\u001b[1;31mKeyboardInterrupt\u001b[0m                         Traceback (most recent call last)",
      "Cell \u001b[1;32mIn[1], line 48\u001b[0m\n\u001b[0;32m     46\u001b[0m \u001b[38;5;28;01mwhile\u001b[39;00m \u001b[38;5;28;01mTrue\u001b[39;00m:\n\u001b[0;32m     47\u001b[0m     schedule\u001b[38;5;241m.\u001b[39mrun_pending()\n\u001b[1;32m---> 48\u001b[0m     \u001b[43mtime\u001b[49m\u001b[38;5;241;43m.\u001b[39;49m\u001b[43msleep\u001b[49m\u001b[43m(\u001b[49m\u001b[38;5;241;43m2\u001b[39;49m\u001b[43m)\u001b[49m\n",
      "\u001b[1;31mKeyboardInterrupt\u001b[0m: "
     ]
    }
   ],
   "source": [
    "import pandas as pd\n",
    "import numpy as np\n",
    "import schedule\n",
    "import time\n",
    "import os\n",
    "\"\"\" import openpyxl \n",
    "from openpyxl import  load_workbook \"\"\"\n",
    "\n",
    "#creamos la funcion MonitoringDueAcc()\n",
    "def MonitoringDueAcc():\n",
    "    try:\n",
    "        #leemos el archivo de excel o csv almacenado dentro de una variable\n",
    "        df = pd.read_csv(\"sample_data_intw.csv\")        #encoding=\"utf-8\", encoding_errors=\"replace\"\n",
    "\n",
    "        #convertir las fechas en formato datetime \n",
    "        df[\"last_rech_date_ma\"] = pd.to_datetime(df[\"last_rech_date_ma\"], errors=\"coerce\")\n",
    "        df[\"pdate\"] = pd.to_datetime(df[\"pdate\"], errors=\"coerce\", dayfirst=True)\n",
    "\n",
    "        #filtramos por la columna que tiene informacion de \n",
    "        deliquency_over30 = df[df[\"daily_decr30\"] > 30]\n",
    "\n",
    "        sol = deliquency_over30[[ \"msisdn\", \"daily_decr30\", \"rental30\",]].head(100)\n",
    "        print(f\"Data processed successfully.\")\n",
    "        return sol\n",
    "    except Exception as e:\n",
    "        print(f\"An error has occurred: {e}\")\n",
    "        return pd.DataFrame()\n",
    "\n",
    "\n",
    "def GenerateReportAuto():\n",
    "    try:\n",
    "        #el mensaje que se mostrara cuando se ejecute la funcion\n",
    "        print(\"Report Generation In Process...\") \n",
    "        sol = MonitoringDueAcc() #llamamos a la funcion MonitoringDueAcc()\n",
    "        if not sol.empty: #si la variable sol no esta vacia\n",
    "            #guardamos el archivo en formato excel\n",
    "            output_file = os.path.join(os.getcwd(), \"MonitoringDueAcc.xlsx\") \n",
    "            sol.to_excel(output_file, index=False)\n",
    "            #imprimimos el mensaje de que se genero el reporte exitosamente\n",
    "            print(f\"Report Generated Successfully at {output_file}\") \n",
    "        else: #si la variable sol esta vacia mostrara el mensaje de que fallo la generacion del reporte\n",
    "            print(\"Report Generation Failed.\")\n",
    "    except Exception as e: #si ocurre un error mostrara el mensaje de que fallo la generacion del reporte\n",
    "        print(f\"An error has occured: {e}\")\n",
    "\n",
    "#definimos la funcion GenerateReportAuto() que se ejecut\n",
    "schedule.every().friday.at(f\"17:15\").do(GenerateReportAuto)\n",
    "print(f\"Waiting for the report to be Generated at 5:15 PM on Friday...\")\n",
    "\n",
    "#mantenemos el programa en ejecucion\n",
    "while True:\n",
    "    schedule.run_pending()\n",
    "    time.sleep(2)\n",
    "\n",
    "\n"
   ]
  },
  {
   "cell_type": "code",
   "execution_count": null,
   "metadata": {},
   "outputs": [],
   "source": [
    "#Generacion de reportes automaticamente\n",
    "import schedule\n",
    "import time\n",
    "import os\n",
    "\n",
    "\n",
    "def GenerateReportAuto():\n",
    "    try:\n",
    "        print(\"Report Generation In Process...\")\n",
    "        result = MonitoringDueAcc() \n",
    "        if not result.empty:\n",
    "            output_file = os.path.join(os.getcwd(), \"MonitoringDueAcc.xlsx\") \n",
    "            result.to_excel(output_file, index=False)\n",
    "            print(f\"Report Generated Successfully at {output_file}\") \n",
    "        else:\n",
    "            print(\"Report Generation Failed.\")\n",
    "    except Exception as e:\n",
    "        print(f\"An error has occured: {e}\")\n",
    "\n",
    "schedule.every().friday.at(f\"17:07\").do(GenerateReportAuto)\n",
    "print(f\"Waiting for the report to be Generated at 5:07 PM on Friday...\")\n",
    "\n",
    "while True:\n",
    "    schedule.run_pending()\n",
    "    time.sleep(2)"
   ]
  },
  {
   "cell_type": "code",
   "execution_count": null,
   "metadata": {},
   "outputs": [],
   "source": [
    "#Para contar a partir de una tabla frecuencia la cantidad de los numeros de telefono\n",
    "df = pd.read_csv(\"sample_data_intw.csv\")\n",
    "frequency = df[\"msisdn\"].value_counts().head(10)\n",
    "frequency"
   ]
  },
  {
   "cell_type": "code",
   "execution_count": null,
   "metadata": {},
   "outputs": [],
   "source": [
    "#para agrupar por msisdn y sumar los valores de daily_decr30\n",
    "goup_by = df.groupby([\"msisdn\"])[[\"daily_decr90\"]].sum().head(10)\n",
    "goup_by"
   ]
  },
  {
   "cell_type": "code",
   "execution_count": null,
   "metadata": {},
   "outputs": [],
   "source": []
  }
 ],
 "metadata": {
  "kernelspec": {
   "display_name": "Python 3",
   "language": "python",
   "name": "python3"
  },
  "language_info": {
   "codemirror_mode": {
    "name": "ipython",
    "version": 3
   },
   "file_extension": ".py",
   "mimetype": "text/x-python",
   "name": "python",
   "nbconvert_exporter": "python",
   "pygments_lexer": "ipython3",
   "version": "3.12.8"
  }
 },
 "nbformat": 4,
 "nbformat_minor": 2
}
